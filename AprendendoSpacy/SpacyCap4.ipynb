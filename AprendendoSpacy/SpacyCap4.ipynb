{
 "cells": [
  {
   "cell_type": "markdown",
   "id": "d22d06cb",
   "metadata": {},
   "source": [
    "Treinando um modelo\n",
    "\n",
    "- O texto que irá treinar o modelo pode ser uma frase, parágrafo ou documento. Para melhores resultados, ele deve ser similar aos textos que o modelo encontrará quando rodar suas previsões\n",
    "- Cada token pertence à apenas uma entidade\n",
    "- O modelo precisa ser treinado com as entidades e o contexto que estão inseridas\n",
    "- É também muito importante que o modelo aprende palavras que não são entidades\n",
    "- Os dados de treinamento normalmente são criados por humanos, que atribuiem marcadores aos textos -> Uma parte pode ser automatizada com o matcher ou com ferramentas de anotações, como o Brat ou o Prodigy"
   ]
  },
  {
   "cell_type": "code",
   "execution_count": 1,
   "id": "a7caa68e",
   "metadata": {},
   "outputs": [
    {
     "ename": "FileNotFoundError",
     "evalue": "[Errno 2] No such file or directory: 'exercises/en/iphone.json'",
     "output_type": "error",
     "traceback": [
      "\u001b[1;31m---------------------------------------------------------------------------\u001b[0m",
      "\u001b[1;31mFileNotFoundError\u001b[0m                         Traceback (most recent call last)",
      "\u001b[1;32m<ipython-input-1-31d8da37e524>\u001b[0m in \u001b[0;36m<module>\u001b[1;34m\u001b[0m\n\u001b[0;32m      6\u001b[0m \u001b[1;33m\u001b[0m\u001b[0m\n\u001b[0;32m      7\u001b[0m \u001b[1;31m# Abre um arquivo com textos para o treinamento\u001b[0m\u001b[1;33m\u001b[0m\u001b[1;33m\u001b[0m\u001b[1;33m\u001b[0m\u001b[0m\n\u001b[1;32m----> 8\u001b[1;33m \u001b[1;32mwith\u001b[0m \u001b[0mopen\u001b[0m\u001b[1;33m(\u001b[0m\u001b[1;34m\"exercises/en/iphone.json\"\u001b[0m\u001b[1;33m,\u001b[0m \u001b[0mencoding\u001b[0m\u001b[1;33m=\u001b[0m\u001b[1;34m\"utf8\"\u001b[0m\u001b[1;33m)\u001b[0m \u001b[1;32mas\u001b[0m \u001b[0mf\u001b[0m\u001b[1;33m:\u001b[0m\u001b[1;33m\u001b[0m\u001b[1;33m\u001b[0m\u001b[0m\n\u001b[0m\u001b[0;32m      9\u001b[0m     \u001b[0mTEXTS\u001b[0m \u001b[1;33m=\u001b[0m \u001b[0mjson\u001b[0m\u001b[1;33m.\u001b[0m\u001b[0mloads\u001b[0m\u001b[1;33m(\u001b[0m\u001b[0mf\u001b[0m\u001b[1;33m.\u001b[0m\u001b[0mread\u001b[0m\u001b[1;33m(\u001b[0m\u001b[1;33m)\u001b[0m\u001b[1;33m)\u001b[0m\u001b[1;33m\u001b[0m\u001b[1;33m\u001b[0m\u001b[0m\n\u001b[0;32m     10\u001b[0m \u001b[1;33m\u001b[0m\u001b[0m\n",
      "\u001b[1;31mFileNotFoundError\u001b[0m: [Errno 2] No such file or directory: 'exercises/en/iphone.json'"
     ]
    }
   ],
   "source": [
    "#Ex\n",
    "\n",
    "import json\n",
    "from spacy.matcher import Matcher\n",
    "from spacy.lang.en import English\n",
    "\n",
    "# Abre um arquivo com textos para o treinamento\n",
    "with open(\"exercises/en/iphone.json\", encoding=\"utf8\") as f:\n",
    "    TEXTS = json.loads(f.read())\n",
    "\n",
    "# Cria o padrão de busca\n",
    "nlp = English()\n",
    "matcher = Matcher(nlp.vocab)\n",
    "pattern1 = [{\"LOWER\": \"iphone\"}, {\"LOWER\": \"x\"}]\n",
    "pattern2 = [{\"LOWER\": \"iphone\"}, {\"IS_DIGIT\": True}]\n",
    "matcher.add(\"GADGET\", None, pattern1, pattern2)\n",
    "\n",
    "TRAINING_DATA = []\n",
    "\n",
    "# Cria um objeto Doc para cada frase em TEXTS\n",
    "for doc in nlp.pipe(TEXTS):\n",
    "    # Faz a correspondência com o doc e cria uma lista com as partições que houve correspondência\n",
    "    spans = [doc[start:end] for match_id, start, end in matcher(doc)]\n",
    "    # Obtêm as tuplas (caracter inicial, caracter final, rótulo) das partições com correspondência\n",
    "    entities = [(span.start_char, span.end_char, \"GADGET\") for span in spans]\n",
    "    # Formata as correspondência como uma tupla (doc.text, entities)\n",
    "    training_example = (doc.text, {\"entities\": entities})\n",
    "    # Adiciona o exemplo aos dados de treinamento\n",
    "    TRAINING_DATA.append(training_example)\n",
    "\n",
    "print(*TRAINING_DATA, sep=\"\\n\")"
   ]
  },
  {
   "cell_type": "markdown",
   "id": "6a2b5263",
   "metadata": {},
   "source": [
    "Loop de treinamento:\n",
    "1) Repete uma série de vezes <br>\n",
    "2) Embaralha os dados de treinamento <br>\n",
    "3) Divide os dados em lotes <br>\n",
    "4) Atualiza o modelo para cada lote <br>\n",
    "5) Salva o modelo atualizado"
   ]
  },
  {
   "cell_type": "code",
   "execution_count": 2,
   "id": "9f329f8c",
   "metadata": {},
   "outputs": [
    {
     "ename": "NameError",
     "evalue": "name 'random' is not defined",
     "output_type": "error",
     "traceback": [
      "\u001b[1;31m---------------------------------------------------------------------------\u001b[0m",
      "\u001b[1;31mNameError\u001b[0m                                 Traceback (most recent call last)",
      "\u001b[1;32m<ipython-input-2-b7fff93b1b22>\u001b[0m in \u001b[0;36m<module>\u001b[1;34m\u001b[0m\n\u001b[0;32m      4\u001b[0m \u001b[1;32mfor\u001b[0m \u001b[0mi\u001b[0m \u001b[1;32min\u001b[0m \u001b[0mrange\u001b[0m\u001b[1;33m(\u001b[0m\u001b[1;36m10\u001b[0m\u001b[1;33m)\u001b[0m\u001b[1;33m:\u001b[0m\u001b[1;33m\u001b[0m\u001b[1;33m\u001b[0m\u001b[0m\n\u001b[0;32m      5\u001b[0m     \u001b[1;31m# Embaralha os dados de treinamento\u001b[0m\u001b[1;33m\u001b[0m\u001b[1;33m\u001b[0m\u001b[1;33m\u001b[0m\u001b[0m\n\u001b[1;32m----> 6\u001b[1;33m     \u001b[0mrandom\u001b[0m\u001b[1;33m.\u001b[0m\u001b[0mshuffle\u001b[0m\u001b[1;33m(\u001b[0m\u001b[0mTRAINING_DATA\u001b[0m\u001b[1;33m)\u001b[0m\u001b[1;33m\u001b[0m\u001b[1;33m\u001b[0m\u001b[0m\n\u001b[0m\u001b[0;32m      7\u001b[0m     \u001b[1;31m# Cria lotes e itera\u001b[0m\u001b[1;33m\u001b[0m\u001b[1;33m\u001b[0m\u001b[1;33m\u001b[0m\u001b[0m\n\u001b[0;32m      8\u001b[0m     \u001b[1;32mfor\u001b[0m \u001b[0mbatch\u001b[0m \u001b[1;32min\u001b[0m \u001b[0mspacy\u001b[0m\u001b[1;33m.\u001b[0m\u001b[0mutil\u001b[0m\u001b[1;33m.\u001b[0m\u001b[0mminibatch\u001b[0m\u001b[1;33m(\u001b[0m\u001b[0mTRAINING_DATA\u001b[0m\u001b[1;33m)\u001b[0m\u001b[1;33m:\u001b[0m\u001b[1;33m\u001b[0m\u001b[1;33m\u001b[0m\u001b[0m\n",
      "\u001b[1;31mNameError\u001b[0m: name 'random' is not defined"
     ]
    }
   ],
   "source": [
    "#Ex\n",
    "\n",
    "# Loop por 10 iterações\n",
    "for i in range(10):\n",
    "    # Embaralha os dados de treinamento\n",
    "    random.shuffle(TRAINING_DATA)\n",
    "    # Cria lotes e itera \n",
    "    for batch in spacy.util.minibatch(TRAINING_DATA):\n",
    "        # Divide o lote em textos e anotações\n",
    "        texts = [text for text, annotation in batch]\n",
    "        annotations = [annotation for text, annotation in batch]\n",
    "        # Atualiza o modelo\n",
    "        nlp.update(texts, annotations)\n",
    "\n",
    "# Salva o modelo \n",
    "nlp.to_disk(path_to_model)"
   ]
  },
  {
   "cell_type": "markdown",
   "id": "4ee9c022",
   "metadata": {},
   "source": [
    "Atualizar um modelo existente\n",
    "\n",
    "- É útil para adicionar exemplos a um modelo existente, como \"person\" ou \"organization\"\n",
    "- Ou para adicionar novas em um modelo já existente. Mas garanta que seus dados de treinamento contenham exemplos das novas categorias e exemplos das categorias previamente aprendidas, senão você corre o risco de prejudicar o que já foi aprendido anteriormente"
   ]
  },
  {
   "cell_type": "code",
   "execution_count": 3,
   "id": "9e9297f1",
   "metadata": {},
   "outputs": [
    {
     "ename": "NameError",
     "evalue": "name 'spacy' is not defined",
     "output_type": "error",
     "traceback": [
      "\u001b[1;31m---------------------------------------------------------------------------\u001b[0m",
      "\u001b[1;31mNameError\u001b[0m                                 Traceback (most recent call last)",
      "\u001b[1;32m<ipython-input-3-89c3245e3662>\u001b[0m in \u001b[0;36m<module>\u001b[1;34m\u001b[0m\n\u001b[0;32m      3\u001b[0m \u001b[1;31m# Inicia o modelo vazio da língua inglesa\u001b[0m\u001b[1;33m\u001b[0m\u001b[1;33m\u001b[0m\u001b[1;33m\u001b[0m\u001b[0m\n\u001b[0;32m      4\u001b[0m \u001b[1;31m# O modelo vazio não tem nenhum componente no fluxo de processamento, apenas os dados do idioma e as regras de toquenização\u001b[0m\u001b[1;33m\u001b[0m\u001b[1;33m\u001b[0m\u001b[1;33m\u001b[0m\u001b[0m\n\u001b[1;32m----> 5\u001b[1;33m \u001b[0mnlp\u001b[0m \u001b[1;33m=\u001b[0m \u001b[0mspacy\u001b[0m\u001b[1;33m.\u001b[0m\u001b[0mblank\u001b[0m\u001b[1;33m(\u001b[0m\u001b[1;34m\"en\"\u001b[0m\u001b[1;33m)\u001b[0m\u001b[1;33m\u001b[0m\u001b[1;33m\u001b[0m\u001b[0m\n\u001b[0m\u001b[0;32m      6\u001b[0m \u001b[1;31m# Criaa identificador de entidades vazio, e adicionar ao fluxo de processamento\u001b[0m\u001b[1;33m\u001b[0m\u001b[1;33m\u001b[0m\u001b[1;33m\u001b[0m\u001b[0m\n\u001b[0;32m      7\u001b[0m \u001b[0mner\u001b[0m \u001b[1;33m=\u001b[0m \u001b[0mnlp\u001b[0m\u001b[1;33m.\u001b[0m\u001b[0mcreate_pipe\u001b[0m\u001b[1;33m(\u001b[0m\u001b[1;34m\"ner\"\u001b[0m\u001b[1;33m)\u001b[0m\u001b[1;33m\u001b[0m\u001b[1;33m\u001b[0m\u001b[0m\n",
      "\u001b[1;31mNameError\u001b[0m: name 'spacy' is not defined"
     ]
    }
   ],
   "source": [
    "#Definindo um novo fluxo de processamento a partir do zero\n",
    "\n",
    "# Inicia o modelo vazio da língua inglesa\n",
    "# O modelo vazio não tem nenhum componente no fluxo de processamento, apenas os dados do idioma e as regras de toquenização\n",
    "nlp = spacy.blank(\"en\")\n",
    "# Cria identificador de entidades vazio, e adiciona ao fluxo de processamento\n",
    "# NER = Named Entity Recognition\n",
    "ner = nlp.create_pipe(\"ner\")\n",
    "nlp.add_pipe(ner)\n",
    "# Adiciona um novo rótulo\n",
    "ner.add_label(\"GADGET\")\n",
    "\n",
    "# Inicia o treinamento\n",
    "nlp.begin_training()\n",
    "# Treina por 10 iterações\n",
    "for itn in range(10):\n",
    "    random.shuffle(examples)\n",
    "    # Divide os exemplos em lotes\n",
    "    for batch in spacy.util.minibatch(examples, size=2):\n",
    "        texts = [text for text, annotation in batch]\n",
    "        annotations = [annotation for text, annotation in batch]\n",
    "        # Atualiza o modelo\n",
    "        nlp.update(texts, annotations)"
   ]
  },
  {
   "cell_type": "markdown",
   "id": "86926b67",
   "metadata": {},
   "source": [
    "Melhores práticas de treinamento\n",
    "\n",
    "- Modelos podem esquecer -> Ao treinar um modelo existente, o modelo pode se superajustar (overfit) aos novos exemplos\n",
    "    - Para prevenir esse problema, garanta que seus exemplos incluam também os exemplos daquilo que o modelo previu corretamente anteriormente\n",
    "    - Você pode criar esses exemplos adicionais necessários simplesmente rodando o modelo existente em alguns textos e extraindo as partições de entidades que você deseja preservar.\n",
    "    - Você pode então adicionar esses exemplos aos seus dados de treinamento e atualizar o modelo com todas essas anotações de entidades.\n",
    "    \n",
    "- A definição dos rótulos deve ser consistente e não deve ser muito específica\n",
    "    - Para estimar categorias específicas, use regras"
   ]
  },
  {
   "cell_type": "code",
   "execution_count": null,
   "id": "8491f22b",
   "metadata": {},
   "outputs": [],
   "source": []
  }
 ],
 "metadata": {
  "kernelspec": {
   "display_name": "Python 3",
   "language": "python",
   "name": "python3"
  },
  "language_info": {
   "codemirror_mode": {
    "name": "ipython",
    "version": 3
   },
   "file_extension": ".py",
   "mimetype": "text/x-python",
   "name": "python",
   "nbconvert_exporter": "python",
   "pygments_lexer": "ipython3",
   "version": "3.8.8"
  }
 },
 "nbformat": 4,
 "nbformat_minor": 5
}
