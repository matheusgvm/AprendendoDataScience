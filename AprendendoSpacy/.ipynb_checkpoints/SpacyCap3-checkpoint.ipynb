{
 "cells": [
  {
   "cell_type": "code",
   "execution_count": 6,
   "id": "5467766d",
   "metadata": {},
   "outputs": [
    {
     "name": "stdout",
     "output_type": "stream",
     "text": [
      "animal_patterns: [cachorro, gato, tartaruga, papagaio]\n",
      "['tok2vec', 'morphologizer', 'parser', 'attribute_ruler', 'lemmatizer', 'ner', 'animal_component']\n",
      "[('tartaruga', 'ANIMAL'), ('cachorro', 'ANIMAL')]\n"
     ]
    }
   ],
   "source": [
    "#Personalizando os componentes de um pipeline\n",
    "\n",
    "import spacy\n",
    "from spacy.matcher import PhraseMatcher\n",
    "from spacy.tokens import Span\n",
    "from spacy.language import Language\n",
    "\n",
    "nlp = spacy.load(\"pt_core_news_sm\")\n",
    "animals = [\"cachorro\", \"gato\", \"tartaruga\", \"papagaio\"]\n",
    "animal_patterns = list(nlp.pipe(animals))\n",
    "print(\"animal_patterns:\", animal_patterns)\n",
    "matcher = PhraseMatcher(nlp.vocab)\n",
    "matcher.add(\"ANIMAL\", None, *animal_patterns)\n",
    "\n",
    "# Defininindo o componente customizado\n",
    "@Language.component(\"animal_component\")\n",
    "def animal_component(doc):\n",
    "    # Aplicando o matcher ao doc\n",
    "    matches = matcher(doc)\n",
    "    # Criando uma partição para cada correspondência e atribuir=ndo o rótulo \"ANIMAL\"\n",
    "    spans = [Span(doc, start, end, label=\"ANIMAL\") for match_id, start, end in matches]\n",
    "    # Sobrescrevendo doc.ents com as correspondências \n",
    "    doc.ents = spans\n",
    "    return doc\n",
    "\n",
    "\n",
    "# Adicionando o componente no final do fluxo de processamento \n",
    "nlp.add_pipe(\"animal_component\", last=True)\n",
    "print(nlp.pipe_names)\n",
    "\n",
    "# Processando o texto e imprimir o texto e rótulo de doc.ents\n",
    "doc = nlp(\"Eu tenho uma tartaruga e um cachorro\")\n",
    "print([(ent.text, ent.label_) for ent in doc.ents])"
   ]
  }
 ],
 "metadata": {
  "kernelspec": {
   "display_name": "Python 3",
   "language": "python",
   "name": "python3"
  },
  "language_info": {
   "codemirror_mode": {
    "name": "ipython",
    "version": 3
   },
   "file_extension": ".py",
   "mimetype": "text/x-python",
   "name": "python",
   "nbconvert_exporter": "python",
   "pygments_lexer": "ipython3",
   "version": "3.8.8"
  }
 },
 "nbformat": 4,
 "nbformat_minor": 5
}
