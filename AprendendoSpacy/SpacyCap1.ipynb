{
 "cells": [
  {
   "cell_type": "code",
   "execution_count": 2,
   "id": "211f237b",
   "metadata": {},
   "outputs": [],
   "source": [
    "import spacy\n",
    "from spacy import displacy"
   ]
  },
  {
   "cell_type": "code",
   "execution_count": 3,
   "id": "0dc14257",
   "metadata": {},
   "outputs": [],
   "source": [
    "#Carrega o modelo\n",
    "\n",
    "nlp = spacy.load(\"pt_core_news_sm\")"
   ]
  },
  {
   "cell_type": "code",
   "execution_count": 8,
   "id": "35fcc8d8",
   "metadata": {},
   "outputs": [
    {
     "name": "stdout",
     "output_type": "stream",
     "text": [
      "Ela | PRON\n",
      "comeu | VERB\n",
      "uma | DET\n",
      "fatia | NOUN\n",
      "de | ADP\n",
      "pizza | NOUN\n",
      ". | PUNCT\n"
     ]
    }
   ],
   "source": [
    "doc = nlp(\"Ela comeu uma fatia de pizza.\")\n",
    "\n",
    "#Mostra a classe gramatical da palavra\n",
    "\n",
    "for token in doc:\n",
    "    print(token.text, \"|\", token.pos_)    "
   ]
  },
  {
   "cell_type": "code",
   "execution_count": 10,
   "id": "951ab4d0",
   "metadata": {},
   "outputs": [
    {
     "name": "stdout",
     "output_type": "stream",
     "text": [
      "Ela | nsubj | comeu\n",
      "comeu | ROOT | comeu\n",
      "uma | det | fatia\n",
      "fatia | obj | comeu\n",
      "de | case | pizza\n",
      "pizza | nmod | fatia\n",
      ". | punct | comeu\n"
     ]
    }
   ],
   "source": [
    "#Mostra a sintaxe da palavra e seu pai\n",
    "\n",
    "for token in doc:\n",
    "    print(token.text, \"|\", token.dep_, \"|\", token.head.text)"
   ]
  },
  {
   "cell_type": "code",
   "execution_count": 12,
   "id": "dca8d9ec",
   "metadata": {},
   "outputs": [
    {
     "data": {
      "text/html": [
       "<span class=\"tex2jax_ignore\"><svg xmlns=\"http://www.w3.org/2000/svg\" xmlns:xlink=\"http://www.w3.org/1999/xlink\" xml:lang=\"pt\" id=\"fc4183a130ee48baaaa41d956ad4eefa-0\" class=\"displacy\" width=\"1100\" height=\"312.0\" direction=\"ltr\" style=\"max-width: none; height: 312.0px; color: #000000; background: #ffffff; font-family: Arial; direction: ltr\">\n",
       "<text class=\"displacy-token\" fill=\"currentColor\" text-anchor=\"middle\" y=\"222.0\">\n",
       "    <tspan class=\"displacy-word\" fill=\"currentColor\" x=\"50\">Ela</tspan>\n",
       "    <tspan class=\"displacy-tag\" dy=\"2em\" fill=\"currentColor\" x=\"50\">PRON</tspan>\n",
       "</text>\n",
       "\n",
       "<text class=\"displacy-token\" fill=\"currentColor\" text-anchor=\"middle\" y=\"222.0\">\n",
       "    <tspan class=\"displacy-word\" fill=\"currentColor\" x=\"225\">comeu</tspan>\n",
       "    <tspan class=\"displacy-tag\" dy=\"2em\" fill=\"currentColor\" x=\"225\">VERB</tspan>\n",
       "</text>\n",
       "\n",
       "<text class=\"displacy-token\" fill=\"currentColor\" text-anchor=\"middle\" y=\"222.0\">\n",
       "    <tspan class=\"displacy-word\" fill=\"currentColor\" x=\"400\">uma</tspan>\n",
       "    <tspan class=\"displacy-tag\" dy=\"2em\" fill=\"currentColor\" x=\"400\">DET</tspan>\n",
       "</text>\n",
       "\n",
       "<text class=\"displacy-token\" fill=\"currentColor\" text-anchor=\"middle\" y=\"222.0\">\n",
       "    <tspan class=\"displacy-word\" fill=\"currentColor\" x=\"575\">fatia</tspan>\n",
       "    <tspan class=\"displacy-tag\" dy=\"2em\" fill=\"currentColor\" x=\"575\">NOUN</tspan>\n",
       "</text>\n",
       "\n",
       "<text class=\"displacy-token\" fill=\"currentColor\" text-anchor=\"middle\" y=\"222.0\">\n",
       "    <tspan class=\"displacy-word\" fill=\"currentColor\" x=\"750\">de</tspan>\n",
       "    <tspan class=\"displacy-tag\" dy=\"2em\" fill=\"currentColor\" x=\"750\">ADP</tspan>\n",
       "</text>\n",
       "\n",
       "<text class=\"displacy-token\" fill=\"currentColor\" text-anchor=\"middle\" y=\"222.0\">\n",
       "    <tspan class=\"displacy-word\" fill=\"currentColor\" x=\"925\">pizza.</tspan>\n",
       "    <tspan class=\"displacy-tag\" dy=\"2em\" fill=\"currentColor\" x=\"925\">NOUN</tspan>\n",
       "</text>\n",
       "\n",
       "<g class=\"displacy-arrow\">\n",
       "    <path class=\"displacy-arc\" id=\"arrow-fc4183a130ee48baaaa41d956ad4eefa-0-0\" stroke-width=\"2px\" d=\"M70,177.0 C70,89.5 220.0,89.5 220.0,177.0\" fill=\"none\" stroke=\"currentColor\"/>\n",
       "    <text dy=\"1.25em\" style=\"font-size: 0.8em; letter-spacing: 1px\">\n",
       "        <textPath xlink:href=\"#arrow-fc4183a130ee48baaaa41d956ad4eefa-0-0\" class=\"displacy-label\" startOffset=\"50%\" side=\"left\" fill=\"currentColor\" text-anchor=\"middle\">nsubj</textPath>\n",
       "    </text>\n",
       "    <path class=\"displacy-arrowhead\" d=\"M70,179.0 L62,167.0 78,167.0\" fill=\"currentColor\"/>\n",
       "</g>\n",
       "\n",
       "<g class=\"displacy-arrow\">\n",
       "    <path class=\"displacy-arc\" id=\"arrow-fc4183a130ee48baaaa41d956ad4eefa-0-1\" stroke-width=\"2px\" d=\"M420,177.0 C420,89.5 570.0,89.5 570.0,177.0\" fill=\"none\" stroke=\"currentColor\"/>\n",
       "    <text dy=\"1.25em\" style=\"font-size: 0.8em; letter-spacing: 1px\">\n",
       "        <textPath xlink:href=\"#arrow-fc4183a130ee48baaaa41d956ad4eefa-0-1\" class=\"displacy-label\" startOffset=\"50%\" side=\"left\" fill=\"currentColor\" text-anchor=\"middle\">det</textPath>\n",
       "    </text>\n",
       "    <path class=\"displacy-arrowhead\" d=\"M420,179.0 L412,167.0 428,167.0\" fill=\"currentColor\"/>\n",
       "</g>\n",
       "\n",
       "<g class=\"displacy-arrow\">\n",
       "    <path class=\"displacy-arc\" id=\"arrow-fc4183a130ee48baaaa41d956ad4eefa-0-2\" stroke-width=\"2px\" d=\"M245,177.0 C245,2.0 575.0,2.0 575.0,177.0\" fill=\"none\" stroke=\"currentColor\"/>\n",
       "    <text dy=\"1.25em\" style=\"font-size: 0.8em; letter-spacing: 1px\">\n",
       "        <textPath xlink:href=\"#arrow-fc4183a130ee48baaaa41d956ad4eefa-0-2\" class=\"displacy-label\" startOffset=\"50%\" side=\"left\" fill=\"currentColor\" text-anchor=\"middle\">obj</textPath>\n",
       "    </text>\n",
       "    <path class=\"displacy-arrowhead\" d=\"M575.0,179.0 L583.0,167.0 567.0,167.0\" fill=\"currentColor\"/>\n",
       "</g>\n",
       "\n",
       "<g class=\"displacy-arrow\">\n",
       "    <path class=\"displacy-arc\" id=\"arrow-fc4183a130ee48baaaa41d956ad4eefa-0-3\" stroke-width=\"2px\" d=\"M770,177.0 C770,89.5 920.0,89.5 920.0,177.0\" fill=\"none\" stroke=\"currentColor\"/>\n",
       "    <text dy=\"1.25em\" style=\"font-size: 0.8em; letter-spacing: 1px\">\n",
       "        <textPath xlink:href=\"#arrow-fc4183a130ee48baaaa41d956ad4eefa-0-3\" class=\"displacy-label\" startOffset=\"50%\" side=\"left\" fill=\"currentColor\" text-anchor=\"middle\">case</textPath>\n",
       "    </text>\n",
       "    <path class=\"displacy-arrowhead\" d=\"M770,179.0 L762,167.0 778,167.0\" fill=\"currentColor\"/>\n",
       "</g>\n",
       "\n",
       "<g class=\"displacy-arrow\">\n",
       "    <path class=\"displacy-arc\" id=\"arrow-fc4183a130ee48baaaa41d956ad4eefa-0-4\" stroke-width=\"2px\" d=\"M595,177.0 C595,2.0 925.0,2.0 925.0,177.0\" fill=\"none\" stroke=\"currentColor\"/>\n",
       "    <text dy=\"1.25em\" style=\"font-size: 0.8em; letter-spacing: 1px\">\n",
       "        <textPath xlink:href=\"#arrow-fc4183a130ee48baaaa41d956ad4eefa-0-4\" class=\"displacy-label\" startOffset=\"50%\" side=\"left\" fill=\"currentColor\" text-anchor=\"middle\">nmod</textPath>\n",
       "    </text>\n",
       "    <path class=\"displacy-arrowhead\" d=\"M925.0,179.0 L933.0,167.0 917.0,167.0\" fill=\"currentColor\"/>\n",
       "</g>\n",
       "</svg></span>"
      ],
      "text/plain": [
       "<IPython.core.display.HTML object>"
      ]
     },
     "metadata": {},
     "output_type": "display_data"
    }
   ],
   "source": [
    "#Exibe as informaçÕes acima de uma forma gráfica\n",
    "\n",
    "displacy.render(doc, style=\"dep\") "
   ]
  },
  {
   "cell_type": "code",
   "execution_count": 14,
   "id": "c99ae44d",
   "metadata": {},
   "outputs": [
    {
     "name": "stdout",
     "output_type": "stream",
     "text": [
      "Syukuro Manabe | PER\n",
      "Klaus Hasselmann | PER\n",
      "Giorgio Parisi | PER\n",
      "Prêmio Nobel 2021 | MISC\n",
      "Física | MISC\n",
      "Academia Real das Ciências da Suécia | ORG\n"
     ]
    }
   ],
   "source": [
    "doc = nlp(\"Syukuro Manabe, Klaus Hasselmann e Giorgio Parisi são os ganhadores do Prêmio Nobel 2021 em Física, anunciou a Academia Real das Ciências da Suécia nesta terça-feira (5), pelas contribuições inovadoras para a nossa compreensão de sistemas físicos complexos.\")\n",
    "\n",
    "#Exibe as entidades do texto -> Em Portugês, possui apenas as categorias PER, ORG LOC  MISC\n",
    "\n",
    "for entidade in doc.ents:\n",
    "    print(entidade, \"|\", entidade.label_)"
   ]
  },
  {
   "cell_type": "code",
   "execution_count": 16,
   "id": "09e328d8",
   "metadata": {},
   "outputs": [
    {
     "data": {
      "text/html": [
       "<span class=\"tex2jax_ignore\"><div class=\"entities\" style=\"line-height: 2.5; direction: ltr\">\n",
       "<mark class=\"entity\" style=\"background: #ddd; padding: 0.45em 0.6em; margin: 0 0.25em; line-height: 1; border-radius: 0.35em;\">\n",
       "    Syukuro Manabe\n",
       "    <span style=\"font-size: 0.8em; font-weight: bold; line-height: 1; border-radius: 0.35em; vertical-align: middle; margin-left: 0.5rem\">PER</span>\n",
       "</mark>\n",
       ", \n",
       "<mark class=\"entity\" style=\"background: #ddd; padding: 0.45em 0.6em; margin: 0 0.25em; line-height: 1; border-radius: 0.35em;\">\n",
       "    Klaus Hasselmann\n",
       "    <span style=\"font-size: 0.8em; font-weight: bold; line-height: 1; border-radius: 0.35em; vertical-align: middle; margin-left: 0.5rem\">PER</span>\n",
       "</mark>\n",
       " e \n",
       "<mark class=\"entity\" style=\"background: #ddd; padding: 0.45em 0.6em; margin: 0 0.25em; line-height: 1; border-radius: 0.35em;\">\n",
       "    Giorgio Parisi\n",
       "    <span style=\"font-size: 0.8em; font-weight: bold; line-height: 1; border-radius: 0.35em; vertical-align: middle; margin-left: 0.5rem\">PER</span>\n",
       "</mark>\n",
       " são os ganhadores do \n",
       "<mark class=\"entity\" style=\"background: #ddd; padding: 0.45em 0.6em; margin: 0 0.25em; line-height: 1; border-radius: 0.35em;\">\n",
       "    Prêmio Nobel 2021\n",
       "    <span style=\"font-size: 0.8em; font-weight: bold; line-height: 1; border-radius: 0.35em; vertical-align: middle; margin-left: 0.5rem\">MISC</span>\n",
       "</mark>\n",
       " em \n",
       "<mark class=\"entity\" style=\"background: #ddd; padding: 0.45em 0.6em; margin: 0 0.25em; line-height: 1; border-radius: 0.35em;\">\n",
       "    Física\n",
       "    <span style=\"font-size: 0.8em; font-weight: bold; line-height: 1; border-radius: 0.35em; vertical-align: middle; margin-left: 0.5rem\">MISC</span>\n",
       "</mark>\n",
       ", anunciou a \n",
       "<mark class=\"entity\" style=\"background: #7aecec; padding: 0.45em 0.6em; margin: 0 0.25em; line-height: 1; border-radius: 0.35em;\">\n",
       "    Academia Real das Ciências da Suécia\n",
       "    <span style=\"font-size: 0.8em; font-weight: bold; line-height: 1; border-radius: 0.35em; vertical-align: middle; margin-left: 0.5rem\">ORG</span>\n",
       "</mark>\n",
       " nesta terça-feira (5), pelas contribuições inovadoras para a nossa compreensão de sistemas físicos complexos.</div></span>"
      ],
      "text/plain": [
       "<IPython.core.display.HTML object>"
      ]
     },
     "metadata": {},
     "output_type": "display_data"
    }
   ],
   "source": [
    "#Exibe as informaçÕes acima de uma forma gráfica\n",
    "\n",
    "displacy.render(doc, style=\"ent\") "
   ]
  },
  {
   "cell_type": "code",
   "execution_count": 21,
   "id": "14739aa3",
   "metadata": {},
   "outputs": [
    {
     "name": "stdout",
     "output_type": "stream",
     "text": [
      "Companies, agencies, institutions, etc.\n",
      "adposition\n",
      "nominal subject\n"
     ]
    }
   ],
   "source": [
    "#Explicações das tags\n",
    "\n",
    "print(spacy.explain(\"ORG\"))\n",
    "print(spacy.explain(\"ADP\"))\n",
    "print(spacy.explain(\"nsubj\"))"
   ]
  },
  {
   "cell_type": "code",
   "execution_count": 37,
   "id": "7b30c72a",
   "metadata": {},
   "outputs": [
    {
     "name": "stdout",
     "output_type": "stream",
     "text": [
      "comprei um celular\n"
     ]
    }
   ],
   "source": [
    "#Usando o Matcher\n",
    "\n",
    "from spacy.matcher import Matcher\n",
    "\n",
    "#Inicializa o Matcher\n",
    "matcher = Matcher(nlp.vocab)\n",
    "\n",
    "# Adiciona os padrões\n",
    "#Procura por uma derivação da palavra comprar, seguida por um determinante e um substantivo\n",
    "pattern = [{\"LEMMA\": \"comprar\"}, {\"POS\": \"DET\"}, {\"POS\": \"NOUN\"}]\n",
    "matcher.add(\"COMPRAR_PATTERN\", [pattern])\n",
    "\n",
    "doc = nlp(\"Eu comprei um celular novo\")\n",
    "\n",
    "# Chamar o Matcher no doc\n",
    "matches = matcher(doc)\n",
    "\n",
    "# Iterar nas correspondências\n",
    "for match_id, start, end in matches:\n",
    "    # Selecionar a partição que houve correspondência\n",
    "    matched_span = doc[start:end]\n",
    "    print(matched_span.text)"
   ]
  },
  {
   "cell_type": "code",
   "execution_count": null,
   "id": "e2d48764",
   "metadata": {},
   "outputs": [],
   "source": [
    "#Exemplos de padrões\n",
    "\n",
    "pattern = [\n",
    "    {\"IS_DIGIT\": True}, #Busca por um dígito\n",
    "    {\"LOWER\": \"copa\"},  #Busca por palavras sem diferenciação de maísculas e minúsculas\n",
    "    {\"LOWER\": \"do\"},\n",
    "    {\"LOWER\": \"mundo\"},\n",
    "    {\"LOWER\": \"fifa\"},\n",
    "    {\"IS_PUNCT\": True}  #Busca por uma pontuação\n",
    "]\n",
    "\n",
    "pattern = [\n",
    "    {\"LEMMA\": \"buy\"},           # OP: define quantas vezes deverá haver correspondência com a expressão\n",
    "    {\"POS\": \"DET\", \"OP\": \"?\"},  # ? -> opcional: corresponde a 0 ou 1 vez\n",
    "    {\"POS\": \"NOUN\"}\n",
    "]\n",
    "\n",
    "\"\"\"\n",
    "{\"OP\": \"!\"} -> Corresponde 1 vez\n",
    "{\"OP\": \"?\"} -> Corresponde 0 ou 1 vez\n",
    "{\"OP\": \"+\"} -> Corresponde 1 ou mais vezes\n",
    "{\"OP\": \"*\"} -> Corresponde 0 ou mais vezes"
   ]
  }
 ],
 "metadata": {
  "kernelspec": {
   "display_name": "Python 3",
   "language": "python",
   "name": "python3"
  },
  "language_info": {
   "codemirror_mode": {
    "name": "ipython",
    "version": 3
   },
   "file_extension": ".py",
   "mimetype": "text/x-python",
   "name": "python",
   "nbconvert_exporter": "python",
   "pygments_lexer": "ipython3",
   "version": "3.8.8"
  }
 },
 "nbformat": 4,
 "nbformat_minor": 5
}
